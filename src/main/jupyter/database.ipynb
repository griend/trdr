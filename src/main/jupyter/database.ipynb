{
 "cells": [
  {
   "cell_type": "markdown",
   "id": "05971c10",
   "metadata": {},
   "source": [
    "# Database"
   ]
  },
  {
   "cell_type": "markdown",
   "id": "dd510c95",
   "metadata": {},
   "source": [
    "## markets"
   ]
  },
  {
   "cell_type": "code",
   "execution_count": 1,
   "id": "e40a0b8a",
   "metadata": {},
   "outputs": [
    {
     "name": "stdout",
     "output_type": "stream",
     "text": [
      "CREATE TABLE markets (\n",
      "            id                   INTEGER PRIMARY KEY,\n",
      "            market               TEXT UNIQUE NOT NULL,\n",
      "            status               TEXT NOT NULL,\n",
      "            base                 TEXT NOT NULL,\n",
      "            quote                TEXT NOT NULL,\n",
      "            pricePrecision       INTEGER NOT NULL,\n",
      "            minOrderInQuoteAsset REAL NOT NULL,\n",
      "            minOrderInBaseAsset  REAL NOT NULL,\n",
      "            orderTypes           TEXT NOT NULL,\n",
      "            created_on           INTEGER NOT NULL DEFAULT (strftime('%s', 'now')),\n",
      "            updated_on           INTEGER NOT NULL DEFAULT (strftime('%s', 'now'))\n",
      "        );\n",
      "CREATE TRIGGER trg_markets AFTER UPDATE ON markets\n",
      "        BEGIN\n",
      "            UPDATE markets\n",
      "            SET    updated_on = (strftime('%s', 'now'))\n",
      "            WHERE  id = new.id;\n",
      "        END;\n"
     ]
    }
   ],
   "source": [
    "sqlite3 ~/var/trader/db/trader.db '.schema markets'"
   ]
  },
  {
   "cell_type": "code",
   "execution_count": 2,
   "id": "9b99ae84",
   "metadata": {
    "scrolled": true
   },
   "outputs": [
    {
     "name": "stdout",
     "output_type": "stream",
     "text": [
      "1|1INCH-EUR|trading|1INCH|EUR|5|5.0|2.0|market, limit, stopLoss, stopLossLimit, takeProfit, takeProfitLimit|1632469889|1632469889\n",
      "2|AAVE-EUR|trading|AAVE|EUR|5|5.0|0.008|market, limit, stopLoss, stopLossLimit, takeProfit, takeProfitLimit|1632469889|1632469889\n",
      "3|ADA-BTC|halted|ADA|BTC|5|0.001|10.0|market, limit, stopLoss, stopLossLimit, takeProfit, takeProfitLimit|1632469889|1632469889\n",
      "4|ADA-EUR|trading|ADA|EUR|5|5.0|3.0|market, limit, stopLoss, stopLossLimit, takeProfit, takeProfitLimit|1632469889|1632469889\n",
      "5|ADX-EUR|trading|ADX|EUR|5|5.0|10.0|market, limit, stopLoss, stopLossLimit, takeProfit, takeProfitLimit|1632469889|1632469889\n"
     ]
    }
   ],
   "source": [
    "sqlite3 ~/var/trader/db/trader.db 'SELECT * FROM markets LIMIT 5' "
   ]
  },
  {
   "cell_type": "markdown",
   "id": "44b6943e",
   "metadata": {},
   "source": [
    "## market_updates"
   ]
  },
  {
   "cell_type": "code",
   "execution_count": 3,
   "id": "dfe42e37",
   "metadata": {},
   "outputs": [
    {
     "name": "stdout",
     "output_type": "stream",
     "text": [
      "CREATE TABLE market_updates (\n",
      "            id                   INTEGER PRIMARY KEY,\n",
      "            market_id            INTEGER NOT NULL,\n",
      "            type                 TEXT NOT NULL,\n",
      "            status               TEXT NOT NULL,\n",
      "            timestamp_start      INTEGER NOT NULL,\n",
      "            timestamp_end        INTEGER NOT NULL,\n",
      "            timestamp_update     INTEGER NOT NULL,\n",
      "            created_on           INTEGER NOT NULL DEFAULT (strftime('%s', 'now')),\n",
      "            updated_on           INTEGER NOT NULL DEFAULT (strftime('%s', 'now')),\n",
      "            FOREIGN KEY (market_id) REFERENCES markets (id) \n",
      "                ON DELETE CASCADE \n",
      "            ON UPDATE NO ACTION\n",
      "        );\n",
      "CREATE TRIGGER trg_market_updates AFTER UPDATE ON market_updates\n",
      "        BEGIN\n",
      "            UPDATE market_updates\n",
      "            SET    updated_on = (strftime('%s', 'now'))\n",
      "            WHERE  id = new.id;\n",
      "        END;\n"
     ]
    }
   ],
   "source": [
    "sqlite3 ~/var/trader/db/trader.db '.schema market_updates'"
   ]
  },
  {
   "cell_type": "code",
   "execution_count": 4,
   "id": "3b075fc3",
   "metadata": {},
   "outputs": [
    {
     "name": "stdout",
     "output_type": "stream",
     "text": [
      "1|1|daily|active|1546297200|2871759600|1632528000|1632471594|1632584245\n",
      "2|1|hourly|active|1546297200|2871759600|1632582000|1632471594|1632584259\n",
      "3|2|daily|active|1546297200|2871759600|1632528000|1632471594|1632584245\n",
      "4|2|hourly|active|1546297200|2871759600|1632582000|1632471594|1632584260\n",
      "5|4|daily|active|1546297200|2871759600|1632528000|1632471594|1632584245\n"
     ]
    }
   ],
   "source": [
    "sqlite3 ~/var/trader/db/trader.db 'SELECT * FROM market_updates LIMIT 5' "
   ]
  },
  {
   "cell_type": "markdown",
   "id": "a91e24a4",
   "metadata": {},
   "source": [
    "## market_daily_prices"
   ]
  },
  {
   "cell_type": "code",
   "execution_count": 5,
   "id": "d251deda",
   "metadata": {},
   "outputs": [
    {
     "name": "stdout",
     "output_type": "stream",
     "text": [
      "CREATE TABLE market_daily_prices (\n",
      "            id                   INTEGER PRIMARY KEY,\n",
      "            market_id            INTEGER NOT NULL,\n",
      "            timestamp            INTEGER NOT NULL,\n",
      "            open                 REAL NOT NULL,\n",
      "            high                 REAL NOT NULL,\n",
      "            low                  REAL NOT NULL,\n",
      "            close                REAL NOT NULL,\n",
      "            volume               REAL NOT NULL,\n",
      "            created_on           INTEGER NOT NULL DEFAULT (strftime('%s', 'now')),\n",
      "            updated_on           INTEGER NOT NULL DEFAULT (strftime('%s', 'now')),\n",
      "            FOREIGN KEY (market_id) REFERENCES markets (id) \n",
      "                ON DELETE CASCADE \n",
      "                ON UPDATE NO ACTION\n",
      "        );\n",
      "CREATE TRIGGER trg_market_daily_prices AFTER UPDATE ON market_daily_prices\n",
      "        BEGIN\n",
      "            UPDATE market_daily_prices\n",
      "            SET    updated_on = (strftime('%s', 'now'))\n",
      "            WHERE  id = new.id;\n",
      "        END;\n"
     ]
    }
   ],
   "source": [
    "sqlite3 ~/var/trader/db/trader.db '.schema market_daily_prices'"
   ]
  },
  {
   "cell_type": "code",
   "execution_count": 6,
   "id": "baa5b58c",
   "metadata": {},
   "outputs": [
    {
     "name": "stdout",
     "output_type": "stream",
     "text": [
      "1|4|1552003200|0.037966|0.038705|0.037424|0.037471|475011.225064|1632472994|1632472994\n",
      "2|4|1552089600|0.037594|0.04178|0.037594|0.041619|611702.353506|1632472994|1632472994\n",
      "3|4|1552176000|0.041105|0.041105|0.039581|0.040301|695109.33592|1632472994|1632472994\n",
      "4|4|1552262400|0.040529|0.042898|0.039665|0.0425|572567.041479|1632472994|1632472994\n",
      "5|4|1552348800|0.041773|0.042485|0.040057|0.041742|576629.590738|1632472994|1632472994\n"
     ]
    }
   ],
   "source": [
    "sqlite3 ~/var/trader/db/trader.db 'SELECT * FROM market_daily_prices LIMIT 5' "
   ]
  },
  {
   "cell_type": "markdown",
   "id": "d4f3d57b",
   "metadata": {},
   "source": [
    "## market_hourly_prices"
   ]
  },
  {
   "cell_type": "code",
   "execution_count": 7,
   "id": "e7bbad29",
   "metadata": {},
   "outputs": [
    {
     "name": "stdout",
     "output_type": "stream",
     "text": [
      "CREATE TABLE market_hourly_prices (\n",
      "            id                   INTEGER PRIMARY KEY,\n",
      "            market_id            INTEGER NOT NULL,\n",
      "            timestamp            INTEGER NOT NULL,\n",
      "            open                 REAL NOT NULL,\n",
      "            high                 REAL NOT NULL,\n",
      "            low                  REAL NOT NULL,\n",
      "            close                REAL NOT NULL,\n",
      "            volume               REAL NOT NULL,\n",
      "            created_on           INTEGER NOT NULL DEFAULT (strftime('%s', 'now')),\n",
      "            updated_on           INTEGER NOT NULL DEFAULT (strftime('%s', 'now')),\n",
      "            FOREIGN KEY (market_id) REFERENCES markets (id) \n",
      "                ON DELETE CASCADE \n",
      "                ON UPDATE NO ACTION\n",
      "        );\n",
      "CREATE TRIGGER trg_market_hourly_prices AFTER UPDATE ON market_hourly_prices\n",
      "        BEGIN\n",
      "            UPDATE market_hourly_prices\n",
      "            SET    updated_on = (strftime('%s', 'now'))\n",
      "            WHERE  id = new.id;\n",
      "        END;\n"
     ]
    }
   ],
   "source": [
    "sqlite3 ~/var/trader/db/trader.db '.schema market_hourly_prices'"
   ]
  },
  {
   "cell_type": "code",
   "execution_count": 8,
   "id": "02ba6d26",
   "metadata": {},
   "outputs": [
    {
     "name": "stdout",
     "output_type": "stream",
     "text": [
      "1|4|1552003200|0.037966|0.038705|0.037424|0.037471|475011.225064|1632472994|1632472994\n",
      "2|4|1552089600|0.037594|0.04178|0.037594|0.041619|611702.353506|1632472994|1632472994\n",
      "3|4|1552176000|0.041105|0.041105|0.039581|0.040301|695109.33592|1632472994|1632472994\n",
      "4|4|1552262400|0.040529|0.042898|0.039665|0.0425|572567.041479|1632472994|1632472994\n",
      "5|4|1552348800|0.041773|0.042485|0.040057|0.041742|576629.590738|1632472994|1632472994\n"
     ]
    }
   ],
   "source": [
    "sqlite3 ~/var/trader/db/trader.db 'SELECT * FROM market_daily_prices LIMIT 5' "
   ]
  }
 ],
 "metadata": {
  "kernelspec": {
   "display_name": "Bash",
   "language": "bash",
   "name": "bash"
  },
  "language_info": {
   "codemirror_mode": "shell",
   "file_extension": ".sh",
   "mimetype": "text/x-sh",
   "name": "bash"
  }
 },
 "nbformat": 4,
 "nbformat_minor": 5
}
